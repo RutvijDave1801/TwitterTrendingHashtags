{
 "cells": [
  {
   "cell_type": "code",
   "execution_count": 1,
   "metadata": {},
   "outputs": [],
   "source": [
    "import tweepy\n",
    "from tweepy import OAuthHandler\n",
    "from tweepy import Stream\n",
    "from tweepy.streaming import StreamListener\n",
    "import json\n",
    "import socket\n"
   ]
  },
  {
   "cell_type": "code",
   "execution_count": 2,
   "metadata": {
    "pycharm": {
     "name": "#%%\n"
    }
   },
   "outputs": [],
   "source": [
    "api_key = 'Au5JwWD1WHqHYIZlEe51qB0sx'\n",
    "api_secret = 'TRqyvDDcZFmqA09HfMRIAI0tRqztJefw6OEtS78FYrSSCtm7OS'\n",
    "access_token = '881880303374970880-VbwreLFZrdNkogz5H9wh5bq2G8iPv1T'\n",
    "access_secret = 'xVQNJ2GzSoZZhWgYd1stkGj1gWSI4Rwo6P1QLmqsYNB61'"
   ]
  },
  {
   "cell_type": "code",
   "execution_count": 3,
   "metadata": {
    "pycharm": {
     "name": "#%%\n"
    }
   },
   "outputs": [],
   "source": [
    "def sendData(c_socket):\n",
    "    auth = OAuthHandler(api_key,api_secret)\n",
    "    auth.set_access_token(access_token,access_secret)\n",
    "    twitter_stream = Stream(auth, TweetsListener(c_socket))\n",
    "    twitter_stream.filter(locations=[0,100,100,11],languages=\"en\")\n",
    " "
   ]
  },
  {
   "cell_type": "code",
   "execution_count": 4,
   "metadata": {
    "pycharm": {
     "name": "#%%\n"
    }
   },
   "outputs": [],
   "source": [
    "class TweetsListener(StreamListener):\n",
    "\n",
    "    def __init__(self,csocket):\n",
    "        self.client_socket = csocket\n",
    "\n",
    "    def on_data(self, data):\n",
    "        try:\n",
    "            msg = json.loads(data)\n",
    "            print(msg['text'].encode('utf-8'))\n",
    "            self.client_socket.send(msg['text'].encode('utf-8'))\n",
    "            return True\n",
    "        except BaseException as e:\n",
    "            print(\"Error on_data: %s\",e)\n",
    "        return True\n",
    "\n",
    "    def on_error(self, status):\n",
    "        print(status)\n",
    "        return True"
   ]
  },
  {
   "cell_type": "code",
   "execution_count": null,
   "metadata": {
    "pycharm": {
     "name": "#%%\n"
    }
   },
   "outputs": [
    {
     "name": "stdout",
     "output_type": "stream",
     "text": [
      "Listening on port: 5000\n",
      "Received request from: ('127.0.0.1', 58373)\n",
      "406\n",
      "406\n",
      "406\n",
      "406\n",
      "406\n",
      "406\n",
      "406\n"
     ]
    }
   ],
   "source": [
    "s = socket.socket()\n",
    "host = \"127.0.0.1\"\n",
    "port =  5000\n",
    "s.bind((host,port))\n",
    "print(\"Listening on port: %s\" %str(port))\n",
    "s.listen(5)\n",
    "c, addr = s.accept()\n",
    "print(\"Received request from: \" + str(addr))\n",
    "sendData(c)"
   ]
  },
  {
   "cell_type": "code",
   "execution_count": null,
   "metadata": {},
   "outputs": [],
   "source": []
  }
 ],
 "metadata": {
  "kernelspec": {
   "display_name": "PyCharm (Sem7)",
   "language": "python",
   "name": "pycharm-4d3ce8e1"
  },
  "language_info": {
   "codemirror_mode": {
    "name": "ipython",
    "version": 3
   },
   "file_extension": ".py",
   "mimetype": "text/x-python",
   "name": "python",
   "nbconvert_exporter": "python",
   "pygments_lexer": "ipython3",
   "version": "3.8.3"
  }
 },
 "nbformat": 4,
 "nbformat_minor": 1
}